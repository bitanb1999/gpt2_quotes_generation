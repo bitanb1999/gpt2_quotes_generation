{
  "nbformat": 4,
  "nbformat_minor": 0,
  "metadata": {
    "colab": {
      "name": "HuggingFace Inference API.ipynb",
      "provenance": [],
      "collapsed_sections": [],
      "authorship_tag": "ABX9TyNPzd6IADCieBG/7SBI2JrD",
      "include_colab_link": true
    },
    "kernelspec": {
      "name": "python3",
      "display_name": "Python 3"
    },
    "language_info": {
      "name": "python"
    }
  },
  "cells": [
    {
      "cell_type": "markdown",
      "metadata": {
        "id": "view-in-github",
        "colab_type": "text"
      },
      "source": [
        "<a href=\"https://colab.research.google.com/github/nandinib1999/gpt2_quotes_generation/blob/main/HuggingFace_Inference_API.ipynb\" target=\"_parent\"><img src=\"https://colab.research.google.com/assets/colab-badge.svg\" alt=\"Open In Colab\"/></a>"
      ]
    },
    {
      "cell_type": "code",
      "metadata": {
        "id": "dChHrdaOzaHT"
      },
      "source": [
        "import requests\n",
        "\n",
        "def query(payload, model_id, api_token):\n",
        "\theaders = {\"Authorization\": f\"Bearer {api_token}\"}\n",
        "\tAPI_URL = f\"https://api-inference.huggingface.co/models/{model_id}\"\n",
        "\tresponse = requests.post(API_URL, headers=headers, json=payload, timeout=10000)\n",
        "\treturn response.json()\n",
        "\n",
        "model_id = \"nandinib1999/quote-generator\"\n",
        "api_token = \"api_xxxxxxxxx\" # get yours at hf.co/settings/token\n",
        "data = query(\"The goal of life is\", model_id, api_token)"
      ],
      "execution_count": 5,
      "outputs": []
    },
    {
      "cell_type": "code",
      "metadata": {
        "colab": {
          "base_uri": "https://localhost:8080/"
        },
        "id": "rIow8Zqcz1AN",
        "outputId": "1aebae32-89ba-4d3d-be3c-e51992bfb86a"
      },
      "source": [
        "data"
      ],
      "execution_count": 6,
      "outputs": [
        {
          "output_type": "execute_result",
          "data": {
            "text/plain": [
              "[{'generated_text': 'The goal of life is to understand who you are.'}]"
            ]
          },
          "metadata": {},
          "execution_count": 6
        }
      ]
    }
  ]
}